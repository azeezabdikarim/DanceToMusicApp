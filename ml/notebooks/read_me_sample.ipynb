{
 "cells": [
  {
   "cell_type": "code",
   "execution_count": 1,
   "metadata": {},
   "outputs": [
    {
     "name": "stdout",
     "output_type": "stream",
     "text": [
      "/Users/azeez/Documents/pose_estimation/DanceToMusicApp/ml/notebooks/..\n"
     ]
    },
    {
     "name": "stderr",
     "output_type": "stream",
     "text": [
      "/Users/azeez/miniforge3/envs/dance2music/lib/python3.10/site-packages/tqdm/auto.py:21: TqdmWarning: IProgress not found. Please update jupyter and ipywidgets. See https://ipywidgets.readthedocs.io/en/stable/user_install.html\n",
      "  from .autonotebook import tqdm as notebook_tqdm\n"
     ]
    }
   ],
   "source": [
    "import os\n",
    "import numpy as np\n",
    "import torch\n",
    "import pickle\n",
    "import time\n",
    "import sys\n",
    "\n",
    "current_directory = os.getcwd()\n",
    "models_dir = os.path.join(current_directory, '..')\n",
    "print(models_dir)\n",
    "sys.path.append(models_dir)\n",
    "\n",
    "import torch\n",
    "from torch.utils.data import DataLoader, Dataset\n",
    "from models import Pose2AudioTransformer\n",
    "from transformers import EncodecModel\n",
    "from utils import DanceToMusic\n",
    "from datetime import datetime\n",
    "from torch.optim import Adam"
   ]
  },
  {
   "cell_type": "code",
   "execution_count": 2,
   "metadata": {},
   "outputs": [
    {
     "name": "stderr",
     "output_type": "stream",
     "text": [
      "/Users/azeez/miniforge3/envs/dance2music/lib/python3.10/site-packages/torch/nn/utils/weight_norm.py:30: UserWarning: torch.nn.utils.weight_norm is deprecated in favor of torch.nn.utils.parametrizations.weight_norm.\n",
      "  warnings.warn(\"torch.nn.utils.weight_norm is deprecated in favor of torch.nn.utils.parametrizations.weight_norm.\")\n"
     ]
    },
    {
     "name": "stdout",
     "output_type": "stream",
     "text": [
      "Dataset size:  1265\n"
     ]
    }
   ],
   "source": [
    "# assign GPU or CPU\n",
    "if torch.backends.mps.is_available():\n",
    "    device = torch.device(\"mps\")\n",
    "if torch.cuda.is_available():\n",
    "    device = torch.device(\"cuda:0\")\n",
    "else:\n",
    "    device = torch.device(\"cpu\")\n",
    "# device = torch.device(\"cpu\")\n",
    "\n",
    "model_id = \"facebook/encodec_24khz\"\n",
    "encodec_model = EncodecModel.from_pretrained(model_id)\n",
    "encodec_model.to(device)\n",
    "codebook_size = encodec_model.quantizer.codebook_size\n",
    "sample_rate = 24000\n",
    "\n",
    "data_dir = \"/Users/azeez/Documents/pose_estimation/DanceToMusicApp/ml/data/samples/5sec_expando_dnb\"\n",
    "dataset = DanceToMusic(data_dir, encoder = encodec_model, sample_rate = sample_rate, device=device)\n",
    "print(\"Dataset size: \", len(dataset))"
   ]
  },
  {
   "cell_type": "code",
   "execution_count": 3,
   "metadata": {},
   "outputs": [
    {
     "name": "stdout",
     "output_type": "stream",
     "text": [
      "Total parameters in encodec model: 14851810\n"
     ]
    }
   ],
   "source": [
    "total_params_encodec = sum(p.numel() for p in encodec_model.parameters())\n",
    "print(f\"Total parameters in encodec model: {total_params_encodec}\")"
   ]
  },
  {
   "cell_type": "code",
   "execution_count": 4,
   "metadata": {},
   "outputs": [
    {
     "name": "stdout",
     "output_type": "stream",
     "text": [
      "torch.Size([1265, 120, 32, 3])\n",
      "Total parameters:  1429472\n"
     ]
    },
    {
     "data": {
      "text/plain": [
       "Pose2AudioTransformer(\n",
       "  (encoder): Encoder(\n",
       "    (position_embedding): Embedding(2000, 96)\n",
       "    (layers): ModuleList(\n",
       "      (0-3): 4 x TransformerBlock(\n",
       "        (attention): SelfAttention(\n",
       "          (values): Linear(in_features=24, out_features=24, bias=False)\n",
       "          (keys): Linear(in_features=24, out_features=24, bias=False)\n",
       "          (queries): Linear(in_features=24, out_features=24, bias=False)\n",
       "          (fc_out): Linear(in_features=96, out_features=96, bias=True)\n",
       "        )\n",
       "        (norm1): LayerNorm((96,), eps=1e-05, elementwise_affine=True)\n",
       "        (norm2): LayerNorm((96,), eps=1e-05, elementwise_affine=True)\n",
       "        (feed_forward): Sequential(\n",
       "          (0): Linear(in_features=96, out_features=384, bias=True)\n",
       "          (1): ReLU()\n",
       "          (2): Linear(in_features=384, out_features=96, bias=True)\n",
       "        )\n",
       "        (dropout): Dropout(p=0.1, inplace=False)\n",
       "      )\n",
       "    )\n",
       "    (dropout): Dropout(p=0.1, inplace=False)\n",
       "  )\n",
       "  (decoder): Decoder(\n",
       "    (codebook_embedding): Embedding(1024, 96)\n",
       "    (combine_codebook_embeddings): Linear(in_features=192, out_features=96, bias=True)\n",
       "    (position_embedding): Embedding(2000, 96)\n",
       "    (layers): ModuleList(\n",
       "      (0-3): 4 x DecoderBlock(\n",
       "        (attention): SelfAttention(\n",
       "          (values): Linear(in_features=24, out_features=24, bias=False)\n",
       "          (keys): Linear(in_features=24, out_features=24, bias=False)\n",
       "          (queries): Linear(in_features=24, out_features=24, bias=False)\n",
       "          (fc_out): Linear(in_features=96, out_features=96, bias=True)\n",
       "        )\n",
       "        (norm): LayerNorm((96,), eps=1e-05, elementwise_affine=True)\n",
       "        (transformer_block): TransformerBlock(\n",
       "          (attention): SelfAttention(\n",
       "            (values): Linear(in_features=24, out_features=24, bias=False)\n",
       "            (keys): Linear(in_features=24, out_features=24, bias=False)\n",
       "            (queries): Linear(in_features=24, out_features=24, bias=False)\n",
       "            (fc_out): Linear(in_features=96, out_features=96, bias=True)\n",
       "          )\n",
       "          (norm1): LayerNorm((96,), eps=1e-05, elementwise_affine=True)\n",
       "          (norm2): LayerNorm((96,), eps=1e-05, elementwise_affine=True)\n",
       "          (feed_forward): Sequential(\n",
       "            (0): Linear(in_features=96, out_features=384, bias=True)\n",
       "            (1): ReLU()\n",
       "            (2): Linear(in_features=384, out_features=96, bias=True)\n",
       "          )\n",
       "          (dropout): Dropout(p=0.1, inplace=False)\n",
       "        )\n",
       "        (dropout): Dropout(p=0.1, inplace=False)\n",
       "      )\n",
       "    )\n",
       "    (fc_out_1): Linear(in_features=96, out_features=1024, bias=True)\n",
       "    (fc_out_2): Linear(in_features=96, out_features=1024, bias=True)\n",
       "    (dropout): Dropout(p=0.1, inplace=False)\n",
       "  )\n",
       ")"
      ]
     },
     "execution_count": 4,
     "metadata": {},
     "output_type": "execute_result"
    }
   ],
   "source": [
    "src_pad_idx = 0\n",
    "trg_pad_idx = 0\n",
    "learned_weights = '/Users/azeez/Documents/pose_estimation/DanceToMusicApp/ml/model_weights/gen_5_sec_dnb__best_model_11258.7658.pt'\n",
    "# device = torch.device(\"mps\")\n",
    "embed_size = dataset.data['poses'].shape[2] * dataset.data['poses'].shape[3]\n",
    "print(dataset.data['poses'].shape)\n",
    "pose_model = Pose2AudioTransformer(codebook_size, src_pad_idx, trg_pad_idx, device=device, num_layers=4, heads = 4, embed_size=embed_size, dropout = 0.1)\n",
    "print(\"Total parameters: \", sum(p.numel() for p in pose_model.parameters()))\n",
    "pose_model.load_state_dict(torch.load(learned_weights, map_location=device))\n",
    "pose_model.to(device)"
   ]
  },
  {
   "cell_type": "code",
   "execution_count": 5,
   "metadata": {},
   "outputs": [],
   "source": [
    "from IPython.display import Audio, display\n",
    "\n",
    "\n",
    "def audioCodeToWav(audio_code, encodec_model, sample_rate = 24000, device='cpu'):\n",
    "    audio_code = audio_code.reshape(1,1,2,int(audio_code.size(2)/2))\n",
    "    audio_code = audio_code.to(device)\n",
    "    audio_scale = [None]\n",
    "    wav = encodec_model.decode(audio_code, audio_scale)\n",
    "    return wav"
   ]
  },
  {
   "cell_type": "code",
   "execution_count": 6,
   "metadata": {},
   "outputs": [
    {
     "name": "stdout",
     "output_type": "stream",
     "text": [
      "Pose shape: torch.Size([120, 32, 3]), Pose mask shape: torch.Size([120]), Audio code shape: (377, 2), Audio wav shape: torch.Size([1, 120001]), Audio wav mask shape: torch.Size([120001])\n",
      "(377, 2)\n",
      "torch.Size([1, 1, 2]) torch.Size([1, 1, 1, 1])\n",
      "torch.Size([1, 1, 2]) torch.Size([1])\n"
     ]
    },
    {
     "ename": "RuntimeError",
     "evalue": "Tensors must have same number of dimensions: got 3 and 2",
     "output_type": "error",
     "traceback": [
      "\u001b[0;31m---------------------------------------------------------------------------\u001b[0m",
      "\u001b[0;31mRuntimeError\u001b[0m                              Traceback (most recent call last)",
      "\u001b[1;32m/Users/azeez/Documents/pose_estimation/DanceToMusicApp/ml/notebooks/read_me_sample.ipynb Cell 6\u001b[0m line \u001b[0;36m4\n\u001b[1;32m      <a href='vscode-notebook-cell:/Users/azeez/Documents/pose_estimation/DanceToMusicApp/ml/notebooks/read_me_sample.ipynb#W5sZmlsZQ%3D%3D?line=1'>2</a>\u001b[0m \u001b[39mprint\u001b[39m(\u001b[39mf\u001b[39m\u001b[39m\"\u001b[39m\u001b[39mPose shape: \u001b[39m\u001b[39m{\u001b[39;00mpose\u001b[39m.\u001b[39mshape\u001b[39m}\u001b[39;00m\u001b[39m, Pose mask shape: \u001b[39m\u001b[39m{\u001b[39;00mpose_mask\u001b[39m.\u001b[39mshape\u001b[39m}\u001b[39;00m\u001b[39m, Audio code shape: \u001b[39m\u001b[39m{\u001b[39;00maudio_codes\u001b[39m.\u001b[39mshape\u001b[39m}\u001b[39;00m\u001b[39m, Audio wav shape: \u001b[39m\u001b[39m{\u001b[39;00mwav\u001b[39m.\u001b[39mshape\u001b[39m}\u001b[39;00m\u001b[39m, Audio wav mask shape: \u001b[39m\u001b[39m{\u001b[39;00mwav_mask\u001b[39m.\u001b[39mshape\u001b[39m}\u001b[39;00m\u001b[39m\"\u001b[39m)\n\u001b[1;32m      <a href='vscode-notebook-cell:/Users/azeez/Documents/pose_estimation/DanceToMusicApp/ml/notebooks/read_me_sample.ipynb#W5sZmlsZQ%3D%3D?line=2'>3</a>\u001b[0m \u001b[39mprint\u001b[39m(audio_codes\u001b[39m.\u001b[39mshape, )\n\u001b[0;32m----> <a href='vscode-notebook-cell:/Users/azeez/Documents/pose_estimation/DanceToMusicApp/ml/notebooks/read_me_sample.ipynb#W5sZmlsZQ%3D%3D?line=3'>4</a>\u001b[0m output \u001b[39m=\u001b[39m pose_model\u001b[39m.\u001b[39;49mgenerate(pose\u001b[39m.\u001b[39;49munsqueeze(\u001b[39m0\u001b[39;49m)\u001b[39m.\u001b[39;49mto(device), pose_mask\u001b[39m.\u001b[39;49mto(device), max_length \u001b[39m=\u001b[39;49m audio_codes\u001b[39m.\u001b[39;49mshape[\u001b[39m0\u001b[39;49m], temperature \u001b[39m=\u001b[39;49m \u001b[39m1\u001b[39;49m)\n\u001b[1;32m      <a href='vscode-notebook-cell:/Users/azeez/Documents/pose_estimation/DanceToMusicApp/ml/notebooks/read_me_sample.ipynb#W5sZmlsZQ%3D%3D?line=4'>5</a>\u001b[0m \u001b[39mprint\u001b[39m(output[\u001b[39m0\u001b[39m][:\u001b[39m20\u001b[39m])\n\u001b[1;32m      <a href='vscode-notebook-cell:/Users/azeez/Documents/pose_estimation/DanceToMusicApp/ml/notebooks/read_me_sample.ipynb#W5sZmlsZQ%3D%3D?line=5'>6</a>\u001b[0m \u001b[39mprint\u001b[39m(output\u001b[39m.\u001b[39mshape)\n",
      "File \u001b[0;32m~/Documents/pose_estimation/DanceToMusicApp/ml/notebooks/../models/pose2audioTransformer.py:413\u001b[0m, in \u001b[0;36mPose2AudioTransformer.generate\u001b[0;34m(self, src, src_mask, max_length, temperature)\u001b[0m\n\u001b[1;32m    411\u001b[0m     \u001b[39m# Update the target sequence for the next iteration\u001b[39;00m\n\u001b[1;32m    412\u001b[0m     \u001b[39mprint\u001b[39m(trg\u001b[39m.\u001b[39mshape, next_token\u001b[39m.\u001b[39mshape)\n\u001b[0;32m--> 413\u001b[0m     trg \u001b[39m=\u001b[39m torch\u001b[39m.\u001b[39;49mcat((trg, next_token\u001b[39m.\u001b[39;49munsqueeze(\u001b[39m1\u001b[39;49m)), dim\u001b[39m=\u001b[39;49m\u001b[39m1\u001b[39;49m)\n\u001b[1;32m    415\u001b[0m \u001b[39m# Concatenate along sequence length dimension to get final output\u001b[39;00m\n\u001b[1;32m    416\u001b[0m final_trg \u001b[39m=\u001b[39m torch\u001b[39m.\u001b[39mcat(generated_tokens, dim\u001b[39m=\u001b[39m\u001b[39m1\u001b[39m)\n",
      "\u001b[0;31mRuntimeError\u001b[0m: Tensors must have same number of dimensions: got 3 and 2"
     ]
    }
   ],
   "source": [
    "audio_codes, pose, pose_mask, wav, wav_mask, wav_path, sr = dataset[0]\n",
    "print(f\"Pose shape: {pose.shape}, Pose mask shape: {pose_mask.shape}, Audio code shape: {audio_codes.shape}, Audio wav shape: {wav.shape}, Audio wav mask shape: {wav_mask.shape}\")\n",
    "print(audio_codes.shape, )\n",
    "output = pose_model.generate(pose.unsqueeze(0).to(device), pose_mask.to(device), max_length = audio_codes.shape[0], temperature = 1)\n",
    "print(output[0][:20])\n",
    "print(output.shape)\n",
    "wav = audioCodeToWav(output.unsqueeze(0), encodec_model, sample_rate = 24000, device=device)['audio_values']\n",
    "display(Audio(wav[0].detach().numpy(), rate=24000))"
   ]
  },
  {
   "cell_type": "code",
   "execution_count": null,
   "metadata": {},
   "outputs": [
    {
     "name": "stdout",
     "output_type": "stream",
     "text": [
      "/Users/azeez/Documents/pose_estimation/DanceToMusic/data/samples/5sec_expando_dataset/youtube_links_67_14_sample/youtube_links_67_14_with_audio.mp4\n"
     ]
    },
    {
     "data": {
      "text/html": [
       "<video src=\"/Users/azeez/Documents/pose_estimation/DanceToMusic/data/samples/5sec_expando_dataset/youtube_links_67_14_sample/youtube_links_67_14_with_audio.mp4\" controls  >\n",
       "      Your browser does not support the <code>video</code> element.\n",
       "    </video>"
      ],
      "text/plain": [
       "<IPython.core.display.Video object>"
      ]
     },
     "execution_count": 8,
     "metadata": {},
     "output_type": "execute_result"
    }
   ],
   "source": [
    "from IPython.display import Video\n",
    "\n",
    "vid_path = wav_path.split('.')[0]+'_with_audio.mp4'\n",
    "print(vid_path)\n",
    "Video(vid_path)"
   ]
  },
  {
   "cell_type": "code",
   "execution_count": null,
   "metadata": {},
   "outputs": [
    {
     "name": "stdout",
     "output_type": "stream",
     "text": [
      "Moviepy - Building video ../assets/sample_original.mp4.\n",
      "MoviePy - Writing audio in sample_originalTEMP_MPY_wvf_snd.mp3\n"
     ]
    },
    {
     "name": "stderr",
     "output_type": "stream",
     "text": [
      "                                                        \r"
     ]
    },
    {
     "name": "stdout",
     "output_type": "stream",
     "text": [
      "MoviePy - Done.\n",
      "Moviepy - Writing video ../assets/sample_original.mp4\n",
      "\n"
     ]
    },
    {
     "name": "stderr",
     "output_type": "stream",
     "text": [
      "                                                               \r"
     ]
    },
    {
     "name": "stdout",
     "output_type": "stream",
     "text": [
      "Moviepy - Done !\n",
      "Moviepy - video ready ../assets/sample_original.mp4\n",
      "Moviepy - Building video ../assets/sample_generated_audio.mp4.\n",
      "MoviePy - Writing audio in sample_generated_audioTEMP_MPY_wvf_snd.mp3\n"
     ]
    },
    {
     "name": "stderr",
     "output_type": "stream",
     "text": [
      "                                                        \r"
     ]
    },
    {
     "name": "stdout",
     "output_type": "stream",
     "text": [
      "MoviePy - Done.\n",
      "Moviepy - Writing video ../assets/sample_generated_audio.mp4\n",
      "\n"
     ]
    },
    {
     "name": "stderr",
     "output_type": "stream",
     "text": [
      "                                                               "
     ]
    },
    {
     "name": "stdout",
     "output_type": "stream",
     "text": [
      "Moviepy - Done !\n",
      "Moviepy - video ready ../assets/sample_generated_audio.mp4\n"
     ]
    },
    {
     "name": "stderr",
     "output_type": "stream",
     "text": [
      "\r"
     ]
    },
    {
     "data": {
      "text/html": [
       "<video src=\"../assets/sample_generated_audio.mp4\" controls  >\n",
       "      Your browser does not support the <code>video</code> element.\n",
       "    </video>"
      ],
      "text/plain": [
       "<IPython.core.display.Video object>"
      ]
     },
     "execution_count": 9,
     "metadata": {},
     "output_type": "execute_result"
    }
   ],
   "source": [
    "from moviepy.editor import VideoFileClip, AudioFileClip, CompositeAudioClip\n",
    "import numpy as np\n",
    "import soundfile as sf\n",
    "from scipy.io import wavfile\n",
    "import os\n",
    "\n",
    "# Assuming `wav` is a PyTorch tensor with your new audio data\n",
    "# and `vid_path` is the path to your original video file.\n",
    "\n",
    "# Specify the path to save the output video and the temporary audio\n",
    "generated_output_video = '../assets/sample_generated_audio.mp4'\n",
    "og_output_video = '../assets/sample_original.mp4'\n",
    "temp_audio_dir = '../assets'\n",
    "temp_audio_path = os.path.join(temp_audio_dir, 'generated_audio.wav')\n",
    "\n",
    "os.makedirs(temp_audio_dir, exist_ok=True)\n",
    "\n",
    "wav_np = wav[0].detach().cpu().numpy()\n",
    "max_val = np.max(np.abs(wav_np))\n",
    "normalized_wav = wav_np / max_val\n",
    "scaled_wav = np.int16(normalized_wav * 32767)\n",
    "wavfile.write(filename=temp_audio_path, rate=24000, data=scaled_wav.T)\n",
    "\n",
    "# Save the original video clip to the assets folder \n",
    "original_video_clip = VideoFileClip(vid_path)\n",
    "original_video_clip.write_videofile(og_output_video)\n",
    "\n",
    "# Now create the video clip with the new audio\n",
    "video_clip = VideoFileClip(vid_path)\n",
    "new_audio_clip = AudioFileClip(temp_audio_path)\n",
    "\n",
    "new_audio_clip = CompositeAudioClip([new_audio_clip])\n",
    "video_clip.audio = new_audio_clip\n",
    "video_clip.write_videofile(generated_output_video)\n",
    "\n",
    "# Close the clips to release their resources\n",
    "video_clip.close()\n",
    "new_audio_clip.close()\n",
    "original_video_clip.close()\n",
    "\n",
    "# os.remove(temp_audio_path)\n",
    "\n",
    "Video(generated_output_video)"
   ]
  }
 ],
 "metadata": {
  "kernelspec": {
   "display_name": "base",
   "language": "python",
   "name": "python3"
  },
  "language_info": {
   "codemirror_mode": {
    "name": "ipython",
    "version": 3
   },
   "file_extension": ".py",
   "mimetype": "text/x-python",
   "name": "python",
   "nbconvert_exporter": "python",
   "pygments_lexer": "ipython3",
   "version": "3.10.13"
  },
  "orig_nbformat": 4
 },
 "nbformat": 4,
 "nbformat_minor": 2
}
